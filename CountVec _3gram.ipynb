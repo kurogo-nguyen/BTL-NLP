{
 "cells": [
  {
   "cell_type": "code",
   "execution_count": 1,
   "metadata": {},
   "outputs": [],
   "source": [
    "import pandas as pd\n",
    "import numpy as np\n",
    "import os\n",
    "from sklearn.datasets import load_files\n",
    "import re\n",
    "import nltk\n",
    "from string import punctuation \n",
    "from nltk.tokenize import word_tokenize\n",
    "import matplotlib.pyplot as plt"
   ]
  },
  {
   "cell_type": "code",
   "execution_count": 2,
   "metadata": {},
   "outputs": [],
   "source": [
    "train_path = r\"C:\\Users\\htc\\Desktop\\NLP\\BTL-NLP\\20news-bydate-train\"\n",
    "test_path = r\"C:\\Users\\htc\\Desktop\\NLP\\BTL-NLP\\20news-bydate-test\""
   ]
  },
  {
   "cell_type": "markdown",
   "metadata": {},
   "source": [
    "# Import Data\n"
   ]
  },
  {
   "cell_type": "code",
   "execution_count": 3,
   "metadata": {},
   "outputs": [
    {
     "data": {
      "text/plain": [
       "['alt.atheism',\n",
       " 'comp.graphics',\n",
       " 'comp.os.ms-windows.misc',\n",
       " 'comp.sys.ibm.pc.hardware',\n",
       " 'comp.sys.mac.hardware',\n",
       " 'comp.windows.x',\n",
       " 'misc.forsale',\n",
       " 'rec.autos',\n",
       " 'rec.motorcycles',\n",
       " 'rec.sport.baseball',\n",
       " 'rec.sport.hockey',\n",
       " 'sci.crypt',\n",
       " 'sci.electronics',\n",
       " 'sci.med',\n",
       " 'sci.space',\n",
       " 'soc.religion.christian',\n",
       " 'talk.politics.guns',\n",
       " 'talk.politics.mideast',\n",
       " 'talk.politics.misc',\n",
       " 'talk.religion.misc']"
      ]
     },
     "execution_count": 3,
     "metadata": {},
     "output_type": "execute_result"
    }
   ],
   "source": [
    "folders = sorted(os.listdir(train_path))\n",
    "folders"
   ]
  },
  {
   "cell_type": "code",
   "execution_count": 4,
   "metadata": {},
   "outputs": [],
   "source": [
    "#Import train data\n",
    "train_data = {}\n",
    "for folder in folders: \n",
    "    train_data[folder] = []\n",
    "    for doc in os.listdir(os.path.join(train_path, folder)):\n",
    "        with open(os.path.join(train_path, folder, doc), encoding = 'latin-1') as opened_file:\n",
    "            train_data[folder].append(opened_file.read())"
   ]
  },
  {
   "cell_type": "code",
   "execution_count": 5,
   "metadata": {},
   "outputs": [],
   "source": [
    "#Import test data\n",
    "test_data = {}\n",
    "for folder in folders: \n",
    "    test_data[folder] = []\n",
    "    for doc in os.listdir(os.path.join(test_path, folder)):\n",
    "        with open(os.path.join(test_path, folder, doc), encoding = 'latin-1') as opened_file:\n",
    "            test_data[folder].append(opened_file.read())\n"
   ]
  },
  {
   "cell_type": "markdown",
   "metadata": {},
   "source": [
    "# Data Preprocessing\n"
   ]
  },
  {
   "cell_type": "code",
   "execution_count": 6,
   "metadata": {},
   "outputs": [],
   "source": [
    "\n",
    "punctuations=list(punctuation)\n",
    "stopwords = list(line.strip() for line in open(r\"C:\\Users\\htc\\Desktop\\NLP\\BTL-NLP\\nltk_data\\corpora\\stopwords\\english\",encoding=\"utf8\"))\n",
    "\n",
    "for item in punctuations:\n",
    "    stopwords.append(item)"
   ]
  },
  {
   "cell_type": "code",
   "execution_count": 7,
   "metadata": {},
   "outputs": [],
   "source": [
    "new_stopwords = ['subject:','from:', 'date:', 'newsgroups:', 'message-id:', 'lines:', 'path:', 'organization:', \n",
    "            'would', 'writes:', 'references:', 'article', 'sender:', 'nntp-posting-host:', 'people', \n",
    "            'university', 'think', 'xref:', 'cantaloupe.srv.cs.cmu.edu', 'could', 'distribution:', 'first', \n",
    "            'anyone','world', 'really', 'since', 'right', 'believe', 'still']\n",
    "stopwords.append(new_stopwords)"
   ]
  },
  {
   "cell_type": "code",
   "execution_count": 8,
   "metadata": {},
   "outputs": [
    {
     "name": "stdout",
     "output_type": "stream",
     "text": [
      "['i', 'me', 'my', 'myself', 'we', 'our', 'ours', 'ourselves', 'you', \"you're\", \"you've\", \"you'll\", \"you'd\", 'your', 'yours', 'yourself', 'yourselves', 'he', 'him', 'his', 'himself', 'she', \"she's\", 'her', 'hers', 'herself', 'it', \"it's\", 'its', 'itself', 'they', 'them', 'their', 'theirs', 'themselves', 'what', 'which', 'who', 'whom', 'this', 'that', \"that'll\", 'these', 'those', 'am', 'is', 'are', 'was', 'were', 'be', 'been', 'being', 'have', 'has', 'had', 'having', 'do', 'does', 'did', 'doing', 'a', 'an', 'the', 'and', 'but', 'if', 'or', 'because', 'as', 'until', 'while', 'of', 'at', 'by', 'for', 'with', 'about', 'against', 'between', 'into', 'through', 'during', 'before', 'after', 'above', 'below', 'to', 'from', 'up', 'down', 'in', 'out', 'on', 'off', 'over', 'under', 'again', 'further', 'then', 'once', 'here', 'there', 'when', 'where', 'why', 'how', 'all', 'any', 'both', 'each', 'few', 'more', 'most', 'other', 'some', 'such', 'no', 'nor', 'not', 'only', 'own', 'same', 'so', 'than', 'too', 'very', 's', 't', 'can', 'will', 'just', 'don', \"don't\", 'should', \"should've\", 'now', 'd', 'll', 'm', 'o', 're', 've', 'y', 'ain', 'aren', \"aren't\", 'couldn', \"couldn't\", 'didn', \"didn't\", 'doesn', \"doesn't\", 'hadn', \"hadn't\", 'hasn', \"hasn't\", 'haven', \"haven't\", 'isn', \"isn't\", 'ma', 'mightn', \"mightn't\", 'mustn', \"mustn't\", 'needn', \"needn't\", 'shan', \"shan't\", 'shouldn', \"shouldn't\", 'wasn', \"wasn't\", 'weren', \"weren't\", 'won', \"won't\", 'wouldn', \"wouldn't\", '!', '\"', '#', '$', '%', '&', \"'\", '(', ')', '*', '+', ',', '-', '.', '/', ':', ';', '<', '=', '>', '?', '@', '[', '\\\\', ']', '^', '_', '`', '{', '|', '}', '~', ['subject:', 'from:', 'date:', 'newsgroups:', 'message-id:', 'lines:', 'path:', 'organization:', 'would', 'writes:', 'references:', 'article', 'sender:', 'nntp-posting-host:', 'people', 'university', 'think', 'xref:', 'cantaloupe.srv.cs.cmu.edu', 'could', 'distribution:', 'first', 'anyone', 'world', 'really', 'since', 'right', 'believe', 'still']]\n"
     ]
    }
   ],
   "source": [
    "print(stopwords)"
   ]
  },
  {
   "cell_type": "code",
   "execution_count": 9,
   "metadata": {},
   "outputs": [],
   "source": [
    "Y_train = []\n",
    "for i in range(len(train_data)):\n",
    "    for doc in train_data[folders[i]]:\n",
    "        Y_train.append(folders[i])\n",
    "\n",
    "Y_train = np.array(Y_train)"
   ]
  },
  {
   "cell_type": "code",
   "execution_count": 10,
   "metadata": {},
   "outputs": [],
   "source": [
    "Y_test = []\n",
    "for i in range(len(test_data)):\n",
    "    for doc in test_data[folders[i]]:\n",
    "        Y_test.append(folders[i])\n",
    "\n",
    "Y_test = np.array(Y_test)"
   ]
  },
  {
   "cell_type": "code",
   "execution_count": 11,
   "metadata": {},
   "outputs": [],
   "source": [
    "X_train = []\n",
    "for folder in train_data:\n",
    "    for doc in train_data[folder]:\n",
    "        tokenized_doc = word_tokenize(doc)\n",
    "        newdoc = []\n",
    "        for word in tokenized_doc:\n",
    "             if len(word) < 21 and len(word) > 1:\n",
    "                if any(c.isdigit() for c in word): #or c == \"_\"\n",
    "                    newdoc.append('0')\n",
    "                    continue\n",
    "                if word.lower() not in stopwords:\n",
    "                    newword = re.sub(r'[^A-Za-z]+', '', word.lower())\n",
    "                    newdoc.append(newword.lower())\n",
    "        X_train.append(newdoc)"
   ]
  },
  {
   "cell_type": "code",
   "execution_count": 12,
   "metadata": {},
   "outputs": [],
   "source": [
    "X_test = []\n",
    "for folder in test_data:\n",
    "    for doc in test_data[folder]:\n",
    "        tokenized_doc = word_tokenize(doc)\n",
    "        newdoc = []\n",
    "        for word in tokenized_doc:\n",
    "             if len(word) < 21 and len(word) > 1:\n",
    "                if any(c.isdigit() for c in word): #or c == \"_\" \n",
    "                    newdoc.append('0')\n",
    "                    continue\n",
    "                if word.lower() not in stopwords:\n",
    "                    newword = re.sub(r'[^A-Za-z]+', '', word.lower())\n",
    "                    newdoc.append(newword.lower())\n",
    "        X_test.append(newdoc)"
   ]
  },
  {
   "cell_type": "code",
   "execution_count": 13,
   "metadata": {
    "scrolled": true
   },
   "outputs": [],
   "source": [
    "X_train_combine = []\n",
    "for doc in X_train:\n",
    "    X_train_combine.append(' '.join(doc))"
   ]
  },
  {
   "cell_type": "code",
   "execution_count": 14,
   "metadata": {},
   "outputs": [],
   "source": [
    "X_test_combine = []\n",
    "for doc in X_test:\n",
    "    X_test_combine.append(' '.join(doc))"
   ]
  },
  {
   "cell_type": "code",
   "execution_count": 15,
   "metadata": {},
   "outputs": [],
   "source": [
    "X_train = X_train_combine\n",
    "X_test = X_test_combine"
   ]
  },
  {
   "cell_type": "code",
   "execution_count": null,
   "metadata": {},
   "outputs": [],
   "source": [
    "plt.subplots(figsize=(8,10))\n",
    "pp = sns.countplot(y=Y_train)\n",
    "plt.show()"
   ]
  },
  {
   "cell_type": "code",
   "execution_count": null,
   "metadata": {},
   "outputs": [],
   "source": [
    "plt.subplots(figsize=(8,10))\n",
    "pp = sns.countplot(y=Y_test)\n",
    "plt.show()"
   ]
  },
  {
   "cell_type": "markdown",
   "metadata": {},
   "source": [
    "# Classification Models"
   ]
  },
  {
   "cell_type": "code",
   "execution_count": 20,
   "metadata": {},
   "outputs": [],
   "source": [
    "import scikitplot as skplt\n",
    "from sklearn.feature_extraction.text import CountVectorizer\n",
    "from sklearn.pipeline import Pipeline\n",
    "from sklearn.metrics import classification_report,confusion_matrix\n",
    "from sklearn.naive_bayes import MultinomialNB\n",
    "from sklearn.linear_model import SGDClassifier\n",
    "from sklearn.model_selection import cross_val_score\n",
    "from sklearn.neighbors import KNeighborsClassifier\n",
    "from sklearn.model_selection import GridSearchCV\n",
    "from sklearn.svm import LinearSVC\n",
    "import time"
   ]
  },
  {
   "cell_type": "code",
   "execution_count": 21,
   "metadata": {},
   "outputs": [],
   "source": [
    "vectorizer = CountVectorizer(stop_words='english',ngram_range=(1, 3))\n",
    "# Caculate accuracy of model\n",
    "results = []\n",
    "names = []\n",
    "def acc_score(model):\n",
    "    cv_results = cross_val_score(model,X_train,Y_train,scoring=\"accuracy\")\n",
    "    names.append(model.named_steps.model)\n",
    "    results.append(cv_results)\n",
    "    return np.mean(cv_results)"
   ]
  },
  {
   "cell_type": "code",
   "execution_count": 22,
   "metadata": {},
   "outputs": [],
   "source": [
    "MNBparams = {\n",
    "    'nbclf__alpha': (1.0,2.0,3.0,4.0,10.0,20.0)\n",
    "}\n",
    "KNNparams = {\n",
    "       'clf__n_neighbors': (5, 10, 100),\n",
    "       'clf__weights': ('uniform', 'distance')\n",
    "}"
   ]
  },
  {
   "cell_type": "markdown",
   "metadata": {},
   "source": [
    "## Multinomial NB Mode"
   ]
  },
  {
   "cell_type": "code",
   "execution_count": 23,
   "metadata": {
    "scrolled": false
   },
   "outputs": [
    {
     "name": "stdout",
     "output_type": "stream",
     "text": [
      "Accuracy: 0.8757295406479433, Time duration: 15.6875\n"
     ]
    }
   ],
   "source": [
    "# Too long\n",
    "#MNB_Pipeline = Pipeline([\n",
    "#    ('cvec',vectorizer),\n",
    "#    ('nbclf', MultinomialNB())])\n",
    "#MNB=GridSearchCV(MNB_Pipeline, MNBparams)\n",
    "#MNB.fit(X_train, Y_train)\n",
    "\n",
    "MNB = Pipeline([\n",
    "   ('cvec',vectorizer),\n",
    "    ('nbclf', MultinomialNB(alpha = 0.01))\n",
    "])\n",
    "\n",
    "start = time.process_time()\n",
    "MNB.fit(X_train, Y_train)\n",
    "end = time.process_time()\n",
    "\n",
    "print(\"Accuracy: \" + str(acc_score(MNB)) + \", Time duration: \" + str(end - start))"
   ]
  },
  {
   "cell_type": "code",
   "execution_count": 24,
   "metadata": {},
   "outputs": [
    {
     "name": "stdout",
     "output_type": "stream",
     "text": [
      "                          precision    recall  f1-score   support\n",
      "\n",
      "             alt.atheism       0.86      0.84      0.85       326\n",
      "           comp.graphics       0.74      0.64      0.69       445\n",
      " comp.os.ms-windows.misc       0.32      0.93      0.48       136\n",
      "comp.sys.ibm.pc.hardware       0.76      0.55      0.64       539\n",
      "   comp.sys.mac.hardware       0.83      0.71      0.76       447\n",
      "          comp.windows.x       0.76      0.84      0.80       354\n",
      "            misc.forsale       0.86      0.77      0.81       434\n",
      "               rec.autos       0.89      0.88      0.88       401\n",
      "         rec.motorcycles       0.95      0.92      0.94       414\n",
      "      rec.sport.baseball       0.92      0.92      0.92       397\n",
      "        rec.sport.hockey       0.95      0.95      0.95       402\n",
      "               sci.crypt       0.91      0.89      0.90       406\n",
      "         sci.electronics       0.79      0.77      0.78       401\n",
      "                 sci.med       0.80      0.89      0.84       358\n",
      "               sci.space       0.90      0.89      0.89       397\n",
      "  soc.religion.christian       0.92      0.92      0.92       400\n",
      "      talk.politics.guns       0.91      0.82      0.87       403\n",
      "   talk.politics.mideast       0.91      0.98      0.94       350\n",
      "      talk.politics.misc       0.71      0.81      0.75       272\n",
      "      talk.religion.misc       0.71      0.71      0.71       250\n",
      "\n",
      "                accuracy                           0.82      7532\n",
      "               macro avg       0.82      0.83      0.82      7532\n",
      "            weighted avg       0.84      0.82      0.83      7532\n",
      "\n"
     ]
    }
   ],
   "source": [
    "Y_pred = MNB.predict(X_test)\n",
    "print(classification_report(Y_pred,Y_test))"
   ]
  },
  {
   "cell_type": "markdown",
   "metadata": {},
   "source": [
    "## SGD Classifier Model"
   ]
  },
  {
   "cell_type": "code",
   "execution_count": 25,
   "metadata": {},
   "outputs": [
    {
     "name": "stdout",
     "output_type": "stream",
     "text": [
      "Accuracy: 0.8812968630406575, Time duration: 27.6875\n"
     ]
    }
   ],
   "source": [
    "SGDC = Pipeline([\n",
    "    ('cvec',vectorizer),\n",
    "    ('SGD', SGDClassifier(max_iter = 10000,alpha= 0.005))\n",
    "])\n",
    "\n",
    "start = time.process_time()\n",
    "SGDC.fit(X_train, Y_train)\n",
    "end = time.process_time()\n",
    "\n",
    "print(\"Accuracy: \" + str(acc_score(SGDC)) + \", Time duration: \" + str(end - start))"
   ]
  },
  {
   "cell_type": "code",
   "execution_count": 26,
   "metadata": {
    "scrolled": true
   },
   "outputs": [
    {
     "name": "stdout",
     "output_type": "stream",
     "text": [
      "                          precision    recall  f1-score   support\n",
      "\n",
      "             alt.atheism       0.74      0.78      0.76       304\n",
      "           comp.graphics       0.77      0.64      0.70       471\n",
      " comp.os.ms-windows.misc       0.73      0.75      0.74       385\n",
      "comp.sys.ibm.pc.hardware       0.71      0.75      0.73       369\n",
      "   comp.sys.mac.hardware       0.82      0.81      0.82       389\n",
      "          comp.windows.x       0.70      0.84      0.77       329\n",
      "            misc.forsale       0.92      0.78      0.85       458\n",
      "               rec.autos       0.87      0.92      0.90       373\n",
      "         rec.motorcycles       0.95      0.94      0.94       402\n",
      "      rec.sport.baseball       0.92      0.92      0.92       396\n",
      "        rec.sport.hockey       0.96      0.94      0.95       408\n",
      "               sci.crypt       0.90      0.91      0.91       393\n",
      "         sci.electronics       0.79      0.76      0.77       408\n",
      "                 sci.med       0.86      0.88      0.87       386\n",
      "               sci.space       0.92      0.90      0.91       399\n",
      "  soc.religion.christian       0.94      0.84      0.89       445\n",
      "      talk.politics.guns       0.91      0.73      0.81       454\n",
      "   talk.politics.mideast       0.84      0.98      0.90       323\n",
      "      talk.politics.misc       0.60      0.82      0.69       225\n",
      "      talk.religion.misc       0.63      0.74      0.68       215\n",
      "\n",
      "                accuracy                           0.83      7532\n",
      "               macro avg       0.82      0.83      0.83      7532\n",
      "            weighted avg       0.84      0.83      0.83      7532\n",
      "\n"
     ]
    }
   ],
   "source": [
    "Y_pred = SGDC.predict(X_test)\n",
    "print(classification_report(Y_pred,Y_test))"
   ]
  },
  {
   "cell_type": "markdown",
   "metadata": {},
   "source": [
    "## LinearSVC\n"
   ]
  },
  {
   "cell_type": "code",
   "execution_count": 27,
   "metadata": {},
   "outputs": [
    {
     "name": "stderr",
     "output_type": "stream",
     "text": [
      "C:\\Users\\htc\\anaconda3\\lib\\site-packages\\sklearn\\svm\\_base.py:977: ConvergenceWarning: Liblinear failed to converge, increase the number of iterations.\n",
      "  \"the number of iterations.\", ConvergenceWarning)\n",
      "C:\\Users\\htc\\anaconda3\\lib\\site-packages\\sklearn\\svm\\_base.py:977: ConvergenceWarning: Liblinear failed to converge, increase the number of iterations.\n",
      "  \"the number of iterations.\", ConvergenceWarning)\n"
     ]
    },
    {
     "name": "stdout",
     "output_type": "stream",
     "text": [
      "Accuracy: 0.8797055073877115, Time duration: 105.375\n"
     ]
    }
   ],
   "source": [
    "SVC = Pipeline([\n",
    "    ('vect', vectorizer),\n",
    "    ('SVCclf', LinearSVC(C=10))\n",
    "])\n",
    "\n",
    "start = time.process_time()\n",
    "SVC.fit(X_train, Y_train)\n",
    "end = time.process_time()\n",
    "\n",
    "print(\"Accuracy: \" + str(acc_score(SVC)) + \", Time duration: \" + str(end - start))"
   ]
  },
  {
   "cell_type": "code",
   "execution_count": 28,
   "metadata": {},
   "outputs": [
    {
     "name": "stdout",
     "output_type": "stream",
     "text": [
      "                          precision    recall  f1-score   support\n",
      "\n",
      "             alt.atheism       0.73      0.79      0.76       298\n",
      "           comp.graphics       0.73      0.66      0.70       430\n",
      " comp.os.ms-windows.misc       0.72      0.76      0.74       373\n",
      "comp.sys.ibm.pc.hardware       0.71      0.69      0.70       405\n",
      "   comp.sys.mac.hardware       0.82      0.80      0.81       392\n",
      "          comp.windows.x       0.73      0.82      0.77       351\n",
      "            misc.forsale       0.92      0.77      0.83       466\n",
      "               rec.autos       0.87      0.90      0.88       383\n",
      "         rec.motorcycles       0.95      0.94      0.95       403\n",
      "      rec.sport.baseball       0.92      0.88      0.90       417\n",
      "        rec.sport.hockey       0.95      0.93      0.94       408\n",
      "               sci.crypt       0.90      0.93      0.91       383\n",
      "         sci.electronics       0.76      0.76      0.76       393\n",
      "                 sci.med       0.82      0.87      0.85       373\n",
      "               sci.space       0.92      0.91      0.92       399\n",
      "  soc.religion.christian       0.94      0.82      0.88       455\n",
      "      talk.politics.guns       0.90      0.75      0.82       435\n",
      "   talk.politics.mideast       0.84      0.97      0.90       328\n",
      "      talk.politics.misc       0.59      0.82      0.69       223\n",
      "      talk.religion.misc       0.63      0.73      0.68       217\n",
      "\n",
      "                accuracy                           0.83      7532\n",
      "               macro avg       0.82      0.83      0.82      7532\n",
      "            weighted avg       0.83      0.83      0.83      7532\n",
      "\n"
     ]
    }
   ],
   "source": [
    "Y_pred = SVC.predict(X_test)\n",
    "print(classification_report(Y_pred,Y_test))"
   ]
  },
  {
   "cell_type": "markdown",
   "metadata": {},
   "source": [
    "## K Neighbors Classifier Model"
   ]
  },
  {
   "cell_type": "code",
   "execution_count": 29,
   "metadata": {},
   "outputs": [
    {
     "name": "stdout",
     "output_type": "stream",
     "text": [
      "Accuracy: 0.2969741972210468, Time duration: 465.09375\n"
     ]
    }
   ],
   "source": [
    "KNN_Pipeline = Pipeline([\n",
    "        ('vect', vectorizer), \n",
    "        ('clf', KNeighborsClassifier(n_neighbors=100))\n",
    "])\n",
    "\n",
    "start = time.process_time()\n",
    "KNN=GridSearchCV(KNN_Pipeline, KNNparams)\n",
    "KNN.fit(X_train, Y_train)\n",
    "end = time.process_time()\n",
    "\n",
    "print(\"Accuracy: \" + str(acc_score(KNN)) + \", Time duration: \" + str(end - start))"
   ]
  },
  {
   "cell_type": "code",
   "execution_count": 30,
   "metadata": {},
   "outputs": [
    {
     "name": "stdout",
     "output_type": "stream",
     "text": [
      "                          precision    recall  f1-score   support\n",
      "\n",
      "             alt.atheism       0.20      0.76      0.31        83\n",
      "           comp.graphics       0.94      0.06      0.12      5845\n",
      " comp.os.ms-windows.misc       0.11      0.82      0.20        55\n",
      "comp.sys.ibm.pc.hardware       0.14      0.66      0.23        83\n",
      "   comp.sys.mac.hardware       0.13      0.72      0.22        71\n",
      "          comp.windows.x       0.12      0.78      0.21        63\n",
      "            misc.forsale       0.13      0.64      0.22        81\n",
      "               rec.autos       0.22      0.48      0.30       185\n",
      "         rec.motorcycles       0.33      0.92      0.48       141\n",
      "      rec.sport.baseball       0.13      0.89      0.22        56\n",
      "        rec.sport.hockey       0.16      0.62      0.25       103\n",
      "               sci.crypt       0.21      0.89      0.34        94\n",
      "         sci.electronics       0.09      0.71      0.16        51\n",
      "                 sci.med       0.13      0.74      0.22        69\n",
      "               sci.space       0.19      0.95      0.32        80\n",
      "  soc.religion.christian       0.20      0.80      0.32        99\n",
      "      talk.politics.guns       0.17      0.85      0.28        73\n",
      "   talk.politics.mideast       0.44      1.00      0.62       167\n",
      "      talk.politics.misc       0.19      0.91      0.31        64\n",
      "      talk.religion.misc       0.18      0.65      0.28        69\n",
      "\n",
      "                accuracy                           0.22      7532\n",
      "               macro avg       0.22      0.74      0.28      7532\n",
      "            weighted avg       0.78      0.22      0.16      7532\n",
      "\n"
     ]
    }
   ],
   "source": [
    "Y_pred = KNN.predict(X_test)\n",
    "print(classification_report(Y_pred,Y_test))"
   ]
  },
  {
   "cell_type": "code",
   "execution_count": null,
   "metadata": {},
   "outputs": [],
   "source": [
    "fig = plt.figure(figsize=(10,5))\n",
    "fig.suptitle('Accuracy')\n",
    "ax = fig.add_subplot(111)\n",
    "plt.boxplot(results)\n",
    "ax.set_xticklabels(names)\n",
    "plt.show()"
   ]
  }
 ],
 "metadata": {
  "kernelspec": {
   "display_name": "Python 3",
   "language": "python",
   "name": "python3"
  },
  "language_info": {
   "codemirror_mode": {
    "name": "ipython",
    "version": 3
   },
   "file_extension": ".py",
   "mimetype": "text/x-python",
   "name": "python",
   "nbconvert_exporter": "python",
   "pygments_lexer": "ipython3",
   "version": "3.7.6"
  }
 },
 "nbformat": 4,
 "nbformat_minor": 4
}